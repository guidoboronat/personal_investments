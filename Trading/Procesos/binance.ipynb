{
 "cells": [
  {
   "cell_type": "markdown",
   "id": "205d49d7",
   "metadata": {},
   "source": [
    "# Binance\n",
    "Definimos algunas funciones para que queden estandarizadas"
   ]
  },
  {
   "cell_type": "code",
   "execution_count": null,
   "id": "cc7ed396",
   "metadata": {},
   "outputs": [],
   "source": [
    "def convertir_a_timestamp(fecha_str):\n",
    "    \"\"\"Convierte una fecha en formato 'YYYY-MM-DD' a timestamp en milisegundos.\"\"\"\n",
    "    fecha = datetime.datetime.strptime(fecha_str, \"%Y-%m-%d\")\n",
    "    return int(fecha.timestamp() * 1000)\n",
    "\n",
    "def timestamp_to_datetime(timestamp_ms):\n",
    "    return datetime.datetime.fromtimestamp(timestamp_ms / 1000)\n",
    "\n",
    "\n",
    "### obtener precios\n",
    "def obtener_precios_historicos(symbol, interval, start_time, end_time):\n",
    "    \"\"\"Obtiene todas las velas históricas desde Binance entre dos fechas.\"\"\"\n",
    "\n",
    "    url = \"https://api.binance.com/api/v3/klines\"\n",
    "    start_ts = convertir_a_timestamp(start_time)\n",
    "    end_ts = convertir_a_timestamp(end_time)\n",
    "\n",
    "    resultados = []\n",
    "\n",
    "    while start_ts < end_ts:\n",
    "        params = {\n",
    "            \"symbol\": symbol,\n",
    "            \"interval\": interval,\n",
    "            \"startTime\": start_ts,\n",
    "            \"endTime\": end_ts,\n",
    "            \"limit\": 1000\n",
    "        }\n",
    "\n",
    "        response = requests.get(url, params=params)\n",
    "        response.raise_for_status()\n",
    "        data = response.json()\n",
    "\n",
    "        if not data:\n",
    "            break  # no hay más datos\n",
    "\n",
    "        for vela in data:\n",
    "            resultados.append({\n",
    "                \"symbol\": symbol,\n",
    "                \"interval\": interval,\n",
    "                \"open_time\": timestamp_to_datetime(vela[0]),\n",
    "                \"open_price\": float(vela[1]),\n",
    "                \"high_price\": float(vela[2]),\n",
    "                \"low_price\": float(vela[3]),\n",
    "                \"close_price\": float(vela[4]),\n",
    "                \"volume\": float(vela[5]),\n",
    "                \"close_time\": timestamp_to_datetime(vela[6]),\n",
    "                \"quote_volume\": float(vela[7]),\n",
    "                \"num_trades\": int(vela[8]),\n",
    "                \"taker_buy_base\": float(vela[9]),\n",
    "                \"taker_buy_quote\": float(vela[10])\n",
    "            })\n",
    "\n",
    "        # avanzar al siguiente lote de datos\n",
    "        last_close_time = data[-1][6]\n",
    "        start_ts = last_close_time + 1  # evitar solapamiento\n",
    "\n",
    "        # opcional: prevenir rate limit\n",
    "        time.sleep(0.2)\n",
    "\n",
    "    return resultados\n"
   ]
  },
  {
   "cell_type": "markdown",
   "id": "e2e5699a",
   "metadata": {},
   "source": [
    "## Visualizamos"
   ]
  },
  {
   "cell_type": "code",
   "execution_count": null,
   "id": "c4bf624f",
   "metadata": {},
   "outputs": [],
   "source": [
    "datos = obtener_precios_historicos(\"BTCUSDT\", \"1h\", \"2024-01-01\", \"2024-01-02\")\n",
    "\n",
    "# Convertir a DataFrame para mejor visualización\n",
    "df = pd.DataFrame(datos)\n",
    "\n",
    "# Mostrar información resumida\n",
    "print(f\"📊 Datos obtenidos para {df['symbol'].iloc[0]} ({df['interval'].iloc[0]})\")\n",
    "print(f\"📅 Período: {df['open_time'].min()} a {df['open_time'].max()}\")\n",
    "print(f\"📈 Total de registros: {len(df)}\")\n",
    "print(\"\\n\" + \"=\"*80)\n",
    "print(df.head())"
   ]
  },
  {
   "cell_type": "markdown",
   "id": "afb81f18",
   "metadata": {},
   "source": []
  }
 ],
 "metadata": {
  "language_info": {
   "name": "python"
  }
 },
 "nbformat": 4,
 "nbformat_minor": 5
}
