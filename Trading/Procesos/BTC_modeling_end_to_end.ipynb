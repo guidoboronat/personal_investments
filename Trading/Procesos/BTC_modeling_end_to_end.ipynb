{
 "cells": [
  {
   "cell_type": "markdown",
   "id": "f91ebaf9",
   "metadata": {},
   "source": [
    "# BTC Price Movement Modeling — From Baseline to Backtest\n",
    "\n",
    "Este cuaderno documenta, ejecuta y **explica** un pipeline realista para predecir movimientos de BTC usando datos OHLCV por hora.\n",
    "Incluye: limpieza, features, definición de etiqueta, dos modelos (baseline y v2 orientado a *recall*), métricas de ML y **métricas de trading** con backtest y costos, más una discusión de limitaciones.\n",
    "\n",
    "> **Input esperado**: un CSV con columnas `['symbol','interval','open_time','open_price','high_price','low_price','close_price','volume','close_time','quote_volume','num_trades','taker_buy_base','taker_buy_quote']`."
   ]
  },
  {
   "cell_type": "markdown",
   "id": "d7eb0839",
   "metadata": {},
   "source": [
    "## 0. Setup"
   ]
  },
  {
   "cell_type": "code",
   "execution_count": null,
   "id": "ebcb4939",
   "metadata": {},
   "outputs": [],
   "source": [
    "# Librerías estándar\n",
    "import pandas as pd, numpy as np\n",
    "from pathlib import Path\n",
    "import matplotlib.pyplot as plt\n",
    "\n",
    "# ML\n",
    "from sklearn.ensemble import RandomForestClassifier, HistGradientBoostingClassifier\n",
    "from sklearn.metrics import (accuracy_score, precision_score, recall_score, f1_score,\n",
    "                             roc_auc_score, confusion_matrix, average_precision_score,\n",
    "                             precision_recall_curve)\n",
    "from sklearn.model_selection import TimeSeriesSplit\n",
    "\n",
    "# Utilidades\n",
    "import warnings, json\n",
    "warnings.filterwarnings('ignore')\n",
    "\n",
    "# Parámetros generales\n",
    "CSV_PATH = '/Users/guidoboronat/personal/Inversiones - repo/personal_investments/Trading/Precios BTC/precios_btc_2024_1h.csv'  # Cambiar si corresponde\n",
    "FIGSIZE = (10,5)\n"
   ]
  },
  {
   "cell_type": "markdown",
   "id": "d36011d5",
   "metadata": {},
   "source": [
    "## 1. Carga y chequeos mínimos"
   ]
  },
  {
   "cell_type": "code",
   "execution_count": null,
   "id": "c04a6fe3",
   "metadata": {},
   "outputs": [],
   "source": [
    "df = pd.read_csv(CSV_PATH)\n",
    "df['open_time'] = pd.to_datetime(df['open_time'])\n",
    "df = df.sort_values('open_time').reset_index(drop=True)\n",
    "print(df.head(3))\n",
    "print('\\nRango temporal:', df['open_time'].min(), '→', df['open_time'].max())\n",
    "print('Filas:', len(df))"
   ]
  },
  {
   "cell_type": "markdown",
   "id": "dc932f7d",
   "metadata": {},
   "source": [
    "## 2. EDA rápida"
   ]
  },
  {
   "cell_type": "code",
   "execution_count": null,
   "id": "182ba89e",
   "metadata": {},
   "outputs": [],
   "source": [
    "fig, ax = plt.subplots(figsize=FIGSIZE)\n",
    "ax.plot(df['open_time'], df['close_price'])\n",
    "ax.set_title('BTCUSDT Close (1h)')\n",
    "ax.set_xlabel('Fecha'); ax.set_ylabel('Precio'); plt.show()\n",
    "\n",
    "fig, ax = plt.subplots(figsize=FIGSIZE)\n",
    "ax.plot(df['open_time'], df['volume'])\n",
    "ax.set_title('Volumen (1h)'); ax.set_xlabel('Fecha'); plt.show()"
   ]
  },
  {
   "cell_type": "markdown",
   "id": "069831ee",
   "metadata": {},
   "source": [
    "## 3. Feature Engineering"
   ]
  },
  {
   "cell_type": "code",
   "execution_count": null,
   "id": "9e909bc1",
   "metadata": {},
   "outputs": [],
   "source": [
    "def rsi(series: pd.Series, window: int = 14) -> pd.Series:\n",
    "    delta = series.diff()\n",
    "    gain = np.where(delta > 0, delta, 0.0)\n",
    "    loss = np.where(delta < 0, -delta, 0.0)\n",
    "    roll_up = pd.Series(gain, index=series.index).rolling(window).mean()\n",
    "    roll_down = pd.Series(loss, index=series.index).rolling(window).mean()\n",
    "    rs = roll_up / (roll_down + 1e-9)\n",
    "    return 100.0 - (100.0 / (1.0 + rs))\n",
    "\n",
    "def macd(series, fast=12, slow=26, signal=9):\n",
    "    ema_fast = series.ewm(span=fast, adjust=False).mean()\n",
    "    ema_slow = series.ewm(span=slow, adjust=False).mean()\n",
    "    macd_line = ema_fast - ema_slow\n",
    "    signal_line = macd_line.ewm(span=signal, adjust=False).mean()\n",
    "    return macd_line, signal_line, macd_line - signal_line\n",
    "\n",
    "def bollinger(series, window=20, num_std=2):\n",
    "    ma = series.rolling(window).mean()\n",
    "    std = series.rolling(window).std()\n",
    "    upper = ma + num_std * std\n",
    "    lower = ma - num_std * std\n",
    "    width = (upper - lower) / (ma + 1e-9)\n",
    "    return ma, upper, lower, width\n",
    "\n",
    "def add_lags(df, col, lags):\n",
    "    for l in lags:\n",
    "        df[f'{col}_lag{l}'] = df[col].shift(l)"
   ]
  },
  {
   "cell_type": "code",
   "execution_count": null,
   "id": "936b8383",
   "metadata": {},
   "outputs": [],
   "source": [
    "# Construcción de features (clásicos + velas + volatilidad)\n",
    "close = df['close_price']; high = df['high_price']; low = df['low_price']; openp = df['open_price']\n",
    "vol = df['volume']; trades = df['num_trades']\n",
    "\n",
    "# Retornos\n",
    "df['ret_1h'] = close.pct_change()\n",
    "for w in [3,6,12,24]:\n",
    "    df[f'ret_{w}h'] = close.pct_change(w)\n",
    "\n",
    "# Volatilidad\n",
    "df['vol_12h'] = close.pct_change().rolling(12).std()\n",
    "df['vol_24h'] = close.pct_change().rolling(24).std()\n",
    "\n",
    "# MACD, Bollinger, RSI\n",
    "df['macd'], df['macd_signal'], df['macd_hist'] = macd(close)\n",
    "df['bb_ma'], df['bb_up'], df['bb_low'], df['bb_width'] = bollinger(close)\n",
    "df['rsi_14'] = rsi(close, 14)\n",
    "\n",
    "# Velas\n",
    "df['hl_range'] = (high - low) / (close.shift(1) + 1e-9)\n",
    "df['body'] = (close - openp) / (openp + 1e-9)\n",
    "df['upper_shadow'] = (high - np.maximum(openp, close)) / (openp + 1e-9)\n",
    "df['lower_shadow'] = (np.minimum(openp, close) - low) / (openp + 1e-9)\n",
    "\n",
    "# Volumen/actividad\n",
    "df['vol_chg_1h'] = vol.pct_change()\n",
    "df['vol_sma_20'] = vol.rolling(20).mean()\n",
    "df['trades_chg_1h'] = trades.pct_change()\n",
    "\n",
    "# Lags\n",
    "for base in ['ret_1h','ret_3h','ret_6h','vol_chg_1h','trades_chg_1h']:\n",
    "    if base in df.columns:\n",
    "        add_lags(df, base, [1,2,3])\n",
    "\n",
    "print('Features creados. NaNs totales:', df.isna().sum().sum())"
   ]
  },
  {
   "cell_type": "markdown",
   "id": "c67cc984",
   "metadata": {},
   "source": [
    "## 4. Definición de Etiquetas (Targets)"
   ]
  },
  {
   "cell_type": "code",
   "execution_count": null,
   "id": "e769c70c",
   "metadata": {},
   "outputs": [],
   "source": [
    "# Target A (baseline): próxima hora sube?\n",
    "df['future_close_1h'] = close.shift(-1)\n",
    "df['target_up_1h'] = (df['future_close_1h'] > close).astype(int)\n",
    "\n",
    "# Target B (v2): sube > +0.3% en próximas 4h\n",
    "HORIZON_HOURS = 4\n",
    "PCT_THRESHOLD = 0.003\n",
    "future_price = close.shift(-HORIZON_HOURS)\n",
    "df['future_return_4h'] = (future_price - close) / close\n",
    "df['target_up_4h_03'] = (df['future_return_4h'] > PCT_THRESHOLD).astype(int)\n",
    "\n",
    "print(df[['target_up_1h','target_up_4h_03']].mean().rename('class_balance'))"
   ]
  },
  {
   "cell_type": "markdown",
   "id": "989d4b8e",
   "metadata": {},
   "source": [
    "## 5. Split temporal (80/20)"
   ]
  },
  {
   "cell_type": "code",
   "execution_count": null,
   "id": "a30cd8d1",
   "metadata": {},
   "outputs": [],
   "source": [
    "# Columnas a usar (excluimos metadatos y targets)\n",
    "exclude = {'symbol','interval','open_time','close_time','future_close_1h','future_return_4h','target_up_1h','target_up_4h_03'}\n",
    "feature_cols = [c for c in df.columns if c not in exclude]\n",
    "\n",
    "df_model = df.dropna(subset=feature_cols).reset_index(drop=True)\n",
    "split_idx = int(len(df_model)*0.8)\n",
    "print('Train rows:', split_idx, 'Test rows:', len(df_model)-split_idx)"
   ]
  },
  {
   "cell_type": "markdown",
   "id": "c5939d72",
   "metadata": {},
   "source": [
    "## 6. Modelo Baseline — RandomForest (target_up_1h)"
   ]
  },
  {
   "cell_type": "code",
   "execution_count": null,
   "id": "5ce5ccaf",
   "metadata": {},
   "outputs": [],
   "source": [
    "X = df_model[feature_cols].values\n",
    "y1 = df_model['target_up_1h'].values\n",
    "\n",
    "X_train, X_test = X[:split_idx], X[split_idx:]\n",
    "y_train, y_test = y1[:split_idx], y1[split_idx:]\n",
    "\n",
    "rf = RandomForestClassifier(n_estimators=400, min_samples_leaf=2, n_jobs=-1, random_state=42)\n",
    "rf.fit(X_train, y_train)\n",
    "y_pred = rf.predict(X_test)\n",
    "y_prob = rf.predict_proba(X_test)[:,1]\n",
    "\n",
    "metrics = {\n",
    "    'accuracy': accuracy_score(y_test, y_pred),\n",
    "    'precision': precision_score(y_test, y_pred, zero_division=0),\n",
    "    'recall': recall_score(y_test, y_pred, zero_division=0),\n",
    "    'f1': f1_score(y_test, y_pred, zero_division=0),\n",
    "    'roc_auc': roc_auc_score(y_test, y_prob),\n",
    "    'avg_precision': average_precision_score(y_test, y_prob)\n",
    "}\n",
    "print(pd.Series(metrics))\n",
    "\n",
    "cm = confusion_matrix(y_test, y_pred)\n",
    "fig, ax = plt.subplots(figsize=(5,5))\n",
    "ax.imshow(cm); ax.set_title('Matriz de confusión — Baseline'); ax.set_xlabel('Predicho'); ax.set_ylabel('Real')\n",
    "for (i,j),v in np.ndenumerate(cm): ax.text(j,i,str(v), ha='center', va='center'); plt.show()"
   ]
  },
  {
   "cell_type": "markdown",
   "id": "564ada7c",
   "metadata": {},
   "source": [
    "## 7. Modelo v2 — HistGradientBoosting (target_up_4h_03, optimizado a *recall*)"
   ]
  },
  {
   "cell_type": "code",
   "execution_count": null,
   "id": "7a4e0100",
   "metadata": {},
   "outputs": [],
   "source": [
    "y2 = df_model['target_up_4h_03'].values\n",
    "y_train2, y_test2 = y2[:split_idx], y2[split_idx:]\n",
    "\n",
    "hgb = HistGradientBoostingClassifier(max_depth=None, learning_rate=0.06, max_iter=400, random_state=42)\n",
    "hgb.fit(X_train, y_train2)\n",
    "y_prob2 = hgb.predict_proba(X_test)[:,1]\n",
    "\n",
    "# Elegimos umbral que maximiza recall (con desempate por F1)\n",
    "prec, rec, thr = precision_recall_curve(y_test2, y_prob2)\n",
    "thr_full = np.r_[0.0, thr]\n",
    "pr = pd.DataFrame({'threshold': thr_full, 'precision': prec, 'recall': rec})\n",
    "pr['f1'] = 2*(pr['precision']*pr['recall'])/(pr['precision']+pr['recall']+1e-9)\n",
    "best = pr.sort_values(['recall','f1','precision'], ascending=[False,False,False]).iloc[0]\n",
    "THRESHOLD = float(best['threshold'])\n",
    "\n",
    "y_pred2 = (y_prob2 >= THRESHOLD).astype(int)\n",
    "metrics2 = {\n",
    "    'threshold': THRESHOLD,\n",
    "    'accuracy': accuracy_score(y_test2, y_pred2),\n",
    "    'precision': precision_score(y_test2, y_pred2, zero_division=0),\n",
    "    'recall': recall_score(y_test2, y_pred2, zero_division=0),\n",
    "    'f1': f1_score(y_test2, y_pred2, zero_division=0),\n",
    "    'roc_auc': roc_auc_score(y_test2, y_prob2),\n",
    "    'avg_precision': average_precision_score(y_test2, y_prob2)\n",
    "}\n",
    "print(pd.Series(metrics2))\n",
    "\n",
    "fig, ax = plt.subplots(figsize=FIGSIZE)\n",
    "ax.plot(rec, prec); ax.set_xlabel('Recall'); ax.set_ylabel('Precision'); ax.set_title('Precision-Recall — v2'); plt.show()"
   ]
  },
  {
   "cell_type": "markdown",
   "id": "045bb7c7",
   "metadata": {},
   "source": [
    "## 8. Backtest simple (long-only) con costos"
   ]
  },
  {
   "cell_type": "code",
   "execution_count": null,
   "id": "865c26c1",
   "metadata": {},
   "outputs": [],
   "source": [
    "# Señales en test set\n",
    "subset = df_model.iloc[split_idx:].copy()\n",
    "subset['signal'] = y_pred2  # 1 = estar largo, 0 = cash\n",
    "\n",
    "# Retornos horarios reales\n",
    "subset['ret_real'] = subset['close_price'].pct_change().fillna(0)\n",
    "\n",
    "# Ejecución al OPEN de la siguiente vela (evitamos look-ahead)\n",
    "subset['pos'] = subset['signal'].shift(1).fillna(0)\n",
    "\n",
    "# Costos por cambio de estado (fee por lado)\n",
    "FEE = 0.001  # 0.10% por lado (ejemplo)\n",
    "subset['pos_change'] = subset['pos'].diff().fillna(subset['pos'])\n",
    "trade_cost = FEE * subset['pos_change'].abs()\n",
    "\n",
    "# Retorno neto\n",
    "subset['ret_strategy_net'] = subset['ret_real'] * subset['pos'] - trade_cost\n",
    "\n",
    "subset['equity_strategy_net'] = (1 + subset['ret_strategy_net']).cumprod()\n",
    "subset['equity_buy_hold'] = (1 + subset['ret_real']).cumprod()\n",
    "\n",
    "# Métricas de trading\n",
    "tot_ret = subset['equity_strategy_net'].iloc[-1] - 1\n",
    "n_trades = int((subset['pos_change'].abs() > 0).sum() // 2)  # aprox. round-trips\n",
    "win_rate = (subset.loc[subset['pos']==1, 'ret_real'] > 0).mean()\n",
    "pf = subset.loc[subset['ret_strategy_net']>0,'ret_strategy_net'].sum() / abs(subset.loc[subset['ret_strategy_net']<0,'ret_strategy_net'].sum() + 1e-9)\n",
    "vol_ann = subset['ret_strategy_net'].std() * np.sqrt(24*365)\n",
    "sharpe = subset['ret_strategy_net'].mean() / (subset['ret_strategy_net'].std() + 1e-9) * np.sqrt(24*365)\n",
    "neg_std = subset.loc[subset['ret_strategy_net']<0,'ret_strategy_net'].std()\n",
    "sortino = subset['ret_strategy_net'].mean() / (neg_std + 1e-9) * np.sqrt(24*365)\n",
    "roll_max = subset['equity_strategy_net'].cummax()\n",
    "max_dd = (subset['equity_strategy_net']/roll_max - 1).min()\n",
    "\n",
    "summary = pd.Series({\n",
    "    'Total Return (%)': 100*tot_ret,\n",
    "    'Sharpe': sharpe,\n",
    "    'Sortino': sortino,\n",
    "    'Max Drawdown (%)': 100*max_dd,\n",
    "    'Win Rate (%)': 100*win_rate,\n",
    "    'Profit Factor': pf,\n",
    "    'Trades (aprox. round-trips)': n_trades\n",
    "})\n",
    "print(summary)\n",
    "\n",
    "# Gráfico de equity\n",
    "fig, ax = plt.subplots(figsize=FIGSIZE)\n",
    "ax.plot(subset['open_time'], subset['equity_strategy_net'], label='Estrategia (neto)')\n",
    "ax.plot(subset['open_time'], subset['equity_buy_hold'], label='Buy & Hold', alpha=0.7)\n",
    "ax.set_title('Equity curve (test)'); ax.legend(); plt.show()"
   ]
  },
  {
   "cell_type": "markdown",
   "id": "fb3b446e",
   "metadata": {},
   "source": [
    "## 9. Dónde falla y por qué (discusión)\n",
    "- **Ruido y baja señal**: retornos horarios tienen mucha varianza; el límite teórico de acierto es bajo.\n",
    "- **Etiquetas difíciles**: predecir dirección corta (1–4h) es intrínsecamente duro; cambiar horizonte/umbral puede ayudar.\n",
    "- **Sólo OHLCV**: sin features de microestructura (spread/imbalance), derivados (funding/OI) o sentimiento, el modelo ve poco.\n",
    "- **Riesgo de sobreajuste**: sin walk‑forward y con tuning agresivo, el backtest puede ser optimista.\n",
    "\n",
    "**Mitigaciones**: usar walk‑forward, añadir features de Binance (order book, aggTrades, funding, OI), optimizar umbral por métrica de trading, y combinar modelos (GBM + reglas de tendencia/volatilidad)."
   ]
  }
 ],
 "metadata": {
  "language_info": {
   "name": "python"
  }
 },
 "nbformat": 4,
 "nbformat_minor": 5
}
